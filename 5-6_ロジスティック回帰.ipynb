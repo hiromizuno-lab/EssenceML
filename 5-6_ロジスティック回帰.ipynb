{
 "cells": [
  {
   "cell_type": "code",
   "execution_count": 10,
   "metadata": {},
   "outputs": [],
   "source": [
    "import numpy as np\n",
    "import pandas as pd\n",
    "import matplotlib.pyplot as plt\n",
    "import seaborn as sns\n",
    "from scipy import linalg\n",
    "import csv\n",
    "%matplotlib inline"
   ]
  },
  {
   "cell_type": "code",
   "execution_count": 4,
   "metadata": {},
   "outputs": [],
   "source": [
    "THRESHMIN = 1e-10"
   ]
  },
  {
   "cell_type": "code",
   "execution_count": 5,
   "metadata": {},
   "outputs": [],
   "source": [
    "# シグモイド関数の定義\n",
    "def sigmoid(x):\n",
    "    return 1 / (1 + np.exp(-x))"
   ]
  },
  {
   "cell_type": "code",
   "execution_count": 8,
   "metadata": {},
   "outputs": [],
   "source": [
    "# ロジスティック回帰のクラス作成\n",
    "class LogisticRegression:\n",
    "    def __init__(self, tol=0.001, max_iter=3, random_seed=0):\n",
    "        self.tol = tol\n",
    "        self.max_iter = max_iter\n",
    "        self.random_state = np.random.RandomState(random_seed)\n",
    "        self.w_ = None\n",
    "        \n",
    "    def fit(self, X, y):\n",
    "        # 初期値作成\n",
    "        self.w_ = self.random_state.randn(X.shape[1] + 1)\n",
    "        # Xtilはx0が1なので、np.ones(X.shape[0])でX行分1を追加する\n",
    "        # np.c_は横に結合するので、n x 1の1をXの左に追加する\n",
    "        Xtil = np.c_[np.ones(X.shape[0]), X]\n",
    "        # 無限大の作成\n",
    "        diff = np.inf\n",
    "        # 初期値をw_prevに代入\n",
    "        w_prev = self.w_\n",
    "        iter = 0\n",
    "        # ニュートン法によって解く\n",
    "        while diff > self.tol and iter < self.max_iter:\n",
    "            # yhatの計算\n",
    "            yhat = sigmoid(np.dot(Xtil, self.w_))\n",
    "            # R(対角行列)の計算 np.clip(対角成分n計算, min=0, max=inf)\n",
    "            r = np.clip(yhat * (1 - yhat), THRESHMIN, np.inf)\n",
    "            # XR, XRXを計算\n",
    "            XR = Xtil.T * r\n",
    "            XRX = np.dot(Xtil.T * r, Xtil)\n",
    "            # 1期前のself.w_を代入する\n",
    "            w_prev = self.w_\n",
    "            # w_newを計算　①まずXRXを除く右側を計算し、②XRXとbの計算を行う\n",
    "            b = np.dot(XR, np.dot(Xtil, self.w_) - 1 / r * (yhat - y))\n",
    "            # 解いたw_を代入\n",
    "            self.w_ = linalg.solve(XRX, b)\n",
    "            # 1つ前のw_と解いたw_の差の平均を計算\n",
    "            diff = abs(w_prev - self.w_).mean()\n",
    "            iter += 1\n",
    "            \n",
    "    def predict(self, X):\n",
    "        Xtil = np.c_[np.ones(X.shape[0]), X]\n",
    "        yhat = sigmoid(np.dot(Xtil, self.w_))\n",
    "        return np.where(yhat > .5, 1, 0)"
   ]
  },
  {
   "cell_type": "code",
   "execution_count": 11,
   "metadata": {},
   "outputs": [],
   "source": [
    "# データの読み込み\n",
    "n_test = 100\n",
    "X = []\n",
    "y = []\n",
    "with open(\"wdbc.data\") as fp:\n",
    "    for row in csv.reader(fp):\n",
    "        if row[1] == \"B\":\n",
    "            y.append(0)\n",
    "        else:\n",
    "            y.append(1)\n",
    "        X.append(row[2:])        "
   ]
  },
  {
   "cell_type": "code",
   "execution_count": 12,
   "metadata": {},
   "outputs": [
    {
     "name": "stderr",
     "output_type": "stream",
     "text": [
      "/opt/anaconda3/lib/python3.7/site-packages/ipykernel_launcher.py:2: RuntimeWarning: overflow encountered in exp\n",
      "  \n"
     ]
    }
   ],
   "source": [
    "# ロジスティック回帰による予測\n",
    "y = np.array(y, dtype=np.float64)\n",
    "X = np.array(X, dtype=np.float64)\n",
    "y_train = y[:-n_test]\n",
    "X_train = X[:-n_test]\n",
    "y_test = y[-n_test:]\n",
    "X_test = X[-n_test:]\n",
    "model = LogisticRegression(tol=0.01)\n",
    "model.fit(X_train, y_train)"
   ]
  },
  {
   "cell_type": "code",
   "execution_count": 13,
   "metadata": {},
   "outputs": [
    {
     "name": "stdout",
     "output_type": "stream",
     "text": [
      "Accuracy: 97/100 = 0.97\n"
     ]
    },
    {
     "name": "stderr",
     "output_type": "stream",
     "text": [
      "/opt/anaconda3/lib/python3.7/site-packages/ipykernel_launcher.py:2: RuntimeWarning: overflow encountered in exp\n",
      "  \n"
     ]
    }
   ],
   "source": [
    "y_predict = model.predict(X_test)\n",
    "n_hits = (y_test == y_predict).sum()\n",
    "print(\"Accuracy: {}/{} = {}\".format(n_hits, n_test, n_hits / n_test))"
   ]
  },
  {
   "cell_type": "code",
   "execution_count": null,
   "metadata": {},
   "outputs": [],
   "source": []
  }
 ],
 "metadata": {
  "kernelspec": {
   "display_name": "Python 3",
   "language": "python",
   "name": "python3"
  },
  "language_info": {
   "codemirror_mode": {
    "name": "ipython",
    "version": 3
   },
   "file_extension": ".py",
   "mimetype": "text/x-python",
   "name": "python",
   "nbconvert_exporter": "python",
   "pygments_lexer": "ipython3",
   "version": "3.7.4"
  }
 },
 "nbformat": 4,
 "nbformat_minor": 4
}
