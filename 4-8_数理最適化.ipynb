{
 "cells": [
  {
   "cell_type": "code",
   "execution_count": 74,
   "metadata": {},
   "outputs": [],
   "source": [
    "import pandas as pd\n",
    "import numpy as np\n",
    "import matplotlib.pyplot as plt\n",
    "import seaborn as sns\n",
    "import cvxopt\n",
    "from numpy import linalg\n",
    "\n",
    "%matplotlib inline"
   ]
  },
  {
   "cell_type": "code",
   "execution_count": 1,
   "metadata": {},
   "outputs": [],
   "source": [
    "s = 0\n",
    "for i in range(1000):\n",
    "    s += 0.01"
   ]
  },
  {
   "cell_type": "code",
   "execution_count": 2,
   "metadata": {},
   "outputs": [
    {
     "data": {
      "text/plain": [
       "9.999999999999831"
      ]
     },
     "execution_count": 2,
     "metadata": {},
     "output_type": "execute_result"
    }
   ],
   "source": [
    "s"
   ]
  },
  {
   "cell_type": "code",
   "execution_count": 8,
   "metadata": {},
   "outputs": [],
   "source": [
    "# 2次方程式の解の公式\n",
    "def qeq(a, b, c):\n",
    "    d = np.sqrt(b**2 - 4 * a * c)\n",
    "    return ((-b + d) / (2 * a), (-b - d) / (2 * a))"
   ]
  },
  {
   "cell_type": "code",
   "execution_count": 9,
   "metadata": {},
   "outputs": [
    {
     "data": {
      "text/plain": [
       "(-2.0, -3.0)"
      ]
     },
     "execution_count": 9,
     "metadata": {},
     "output_type": "execute_result"
    }
   ],
   "source": [
    "qeq(1, 5, 6)"
   ]
  },
  {
   "cell_type": "code",
   "execution_count": 10,
   "metadata": {},
   "outputs": [
    {
     "data": {
      "text/plain": [
       "(-1.0000000272292198e-09, -1.0)"
      ]
     },
     "execution_count": 10,
     "metadata": {},
     "output_type": "execute_result"
    }
   ],
   "source": [
    "qeq(1, 1.000000001, 0.000000001)"
   ]
  },
  {
   "cell_type": "code",
   "execution_count": 11,
   "metadata": {},
   "outputs": [],
   "source": [
    "# 数値安定的な２次関数の解の法則\n",
    "def qeq2(a, b, c):\n",
    "    alpha = (-b - np.sign(b) * np.sqrt(b**2 - 4 * a * c)) / (2 * a)\n",
    "    beta = c / (a * alpha)\n",
    "    return (alpha, beta)"
   ]
  },
  {
   "cell_type": "code",
   "execution_count": 12,
   "metadata": {},
   "outputs": [
    {
     "data": {
      "text/plain": [
       "(-3.0, -2.0)"
      ]
     },
     "execution_count": 12,
     "metadata": {},
     "output_type": "execute_result"
    }
   ],
   "source": [
    "qeq2(1, 5, 6)"
   ]
  },
  {
   "cell_type": "code",
   "execution_count": 13,
   "metadata": {},
   "outputs": [
    {
     "data": {
      "text/plain": [
       "(-1.0, -1e-09)"
      ]
     },
     "execution_count": 13,
     "metadata": {},
     "output_type": "execute_result"
    }
   ],
   "source": [
    "qeq2(1, 1.000000001, 0.000000001)"
   ]
  },
  {
   "cell_type": "code",
   "execution_count": 14,
   "metadata": {},
   "outputs": [],
   "source": [
    "# softplus function\n",
    "def softplus(x):\n",
    "    return np.log(1 + np.exp(x))"
   ]
  },
  {
   "cell_type": "code",
   "execution_count": 15,
   "metadata": {},
   "outputs": [
    {
     "data": {
      "text/plain": [
       "0.31326168751822286"
      ]
     },
     "execution_count": 15,
     "metadata": {},
     "output_type": "execute_result"
    }
   ],
   "source": [
    "softplus(-1)"
   ]
  },
  {
   "cell_type": "code",
   "execution_count": 16,
   "metadata": {},
   "outputs": [
    {
     "data": {
      "text/plain": [
       "0.6931471805599453"
      ]
     },
     "execution_count": 16,
     "metadata": {},
     "output_type": "execute_result"
    }
   ],
   "source": [
    "softplus(0)"
   ]
  },
  {
   "cell_type": "code",
   "execution_count": 17,
   "metadata": {},
   "outputs": [
    {
     "name": "stderr",
     "output_type": "stream",
     "text": [
      "/opt/anaconda3/lib/python3.7/site-packages/ipykernel_launcher.py:3: RuntimeWarning: overflow encountered in exp\n",
      "  This is separate from the ipykernel package so we can avoid doing imports until\n"
     ]
    },
    {
     "data": {
      "text/plain": [
       "inf"
      ]
     },
     "execution_count": 17,
     "metadata": {},
     "output_type": "execute_result"
    }
   ],
   "source": [
    "softplus(1000)"
   ]
  },
  {
   "cell_type": "code",
   "execution_count": 19,
   "metadata": {},
   "outputs": [],
   "source": [
    "# softplus function 2\n",
    "def softplus2(x):\n",
    "    return max(0, x) + np.log(1 + np.exp(-abs(x)))"
   ]
  },
  {
   "cell_type": "code",
   "execution_count": 20,
   "metadata": {},
   "outputs": [
    {
     "data": {
      "text/plain": [
       "1000.0"
      ]
     },
     "execution_count": 20,
     "metadata": {},
     "output_type": "execute_result"
    }
   ],
   "source": [
    "softplus2(1000)"
   ]
  },
  {
   "cell_type": "markdown",
   "metadata": {},
   "source": [
    "## 線形計画問題"
   ]
  },
  {
   "cell_type": "code",
   "execution_count": 21,
   "metadata": {},
   "outputs": [],
   "source": [
    "# SciPyのscipy.opitmize.linprog\n",
    "from scipy import optimize"
   ]
  },
  {
   "cell_type": "code",
   "execution_count": 24,
   "metadata": {},
   "outputs": [
    {
     "name": "stdout",
     "output_type": "stream",
     "text": [
      "[399.99988463 199.99996114]\n",
      "-1999.9994984688606\n"
     ]
    }
   ],
   "source": [
    "c = np.array([-3, -4], dtype=np.float64)\n",
    "G = np.array([[1, 4], [2, 3], [2, 1]], dtype=np.float64)\n",
    "h = np.array([1700, 1400, 1000], np.float64)\n",
    "sol = optimize.linprog(c, A_ub=G, b_ub=h, bounds=(0, None))\n",
    "#boundsは（下限値, 上限値）\n",
    "print(sol.x)\n",
    "print(sol.fun)"
   ]
  },
  {
   "cell_type": "markdown",
   "metadata": {},
   "source": [
    "### 2次計画法"
   ]
  },
  {
   "cell_type": "code",
   "execution_count": 4,
   "metadata": {},
   "outputs": [
    {
     "name": "stdout",
     "output_type": "stream",
     "text": [
      "[[ 2.22044605e-16]\n",
      " [-2.00000000e+00]]\n",
      "-4.0\n"
     ]
    }
   ],
   "source": [
    "# cvxoptを使って2次計画法を解く\n",
    "# cvxoptで解ける形にPとqを設定する\n",
    "P = cvxopt.matrix(np.array([[2, 1], [1, 2]], dtype=np.float64))\n",
    "q = cvxopt.matrix(np.array([2, 4], dtype=np.float64))\n",
    "\n",
    "#最適解を求める\n",
    "sol = cvxopt.solvers.qp(P, q)\n",
    "\n",
    "#最適解を表示\n",
    "print(np.array(sol[\"x\"]))\n",
    "print(np.array(sol[\"primal objective\"]))"
   ]
  },
  {
   "cell_type": "code",
   "execution_count": 5,
   "metadata": {},
   "outputs": [
    {
     "name": "stdout",
     "output_type": "stream",
     "text": [
      "[[ 1.]\n",
      " [-1.]]\n",
      "-1.0000000000000016\n"
     ]
    }
   ],
   "source": [
    "# cvxoptで制約条件付き最適化問題を解く\n",
    "P = cvxopt.matrix(np.array([[2, 1], [1, 2]], dtype=np.float64))\n",
    "q = cvxopt.matrix(np.array([2, 4], dtype=np.float64))\n",
    "# 制約条件 Ax=b\n",
    "A = cvxopt.matrix(np.array([[1, 1]], dtype=np.float64))\n",
    "b = cvxopt.matrix(np.array([0], dtype=np.float64))\n",
    "\n",
    "#Ax=b形式の制約条件の最適解を求める\n",
    "sol = cvxopt.solvers.qp(P, q, A=A, b=b)\n",
    "\n",
    "#最適解を表示\n",
    "print(np.array(sol[\"x\"]))\n",
    "print(np.array(sol[\"primal objective\"]))"
   ]
  },
  {
   "cell_type": "code",
   "execution_count": 7,
   "metadata": {},
   "outputs": [
    {
     "name": "stdout",
     "output_type": "stream",
     "text": [
      "     pcost       dcost       gap    pres   dres\n",
      " 0:  1.8858e+00  2.9758e-01  2e+00  5e-18  2e+00\n",
      " 1: -2.1066e+00 -2.1546e+00  5e-02  2e-16  7e-01\n",
      " 2: -3.9999e+00 -4.0665e+00  7e-02  3e-16  2e-16\n",
      " 3: -4.0000e+00 -4.0007e+00  7e-04  1e-15  1e-16\n",
      " 4: -4.0000e+00 -4.0000e+00  7e-06  3e-16  6e-17\n",
      " 5: -4.0000e+00 -4.0000e+00  7e-08  9e-16  2e-16\n",
      "Optimal solution found.\n",
      "[[-2.45940172e-09]\n",
      " [-2.00000001e+00]]\n",
      "-4.0\n"
     ]
    }
   ],
   "source": [
    "# cvxoptで制約条件付き最適化問題を解く\n",
    "P = cvxopt.matrix(np.array([[2, 1], [1, 2]], dtype=np.float64))\n",
    "q = cvxopt.matrix(np.array([2, 4], dtype=np.float64))\n",
    "# 制約条件 Gx=<h\n",
    "G = cvxopt.matrix(np.array([[2, 3]], dtype=np.float64))\n",
    "h = cvxopt.matrix(np.array([3], dtype=np.float64))\n",
    "\n",
    "# Gx=<h形式の制約条件の最適解を求める\n",
    "sol = cvxopt.solvers.qp(P, q, G=G, h=h)\n",
    "\n",
    "#最適解を表示\n",
    "print(np.array(sol[\"x\"]))\n",
    "print(np.array(sol[\"primal objective\"]))"
   ]
  },
  {
   "cell_type": "markdown",
   "metadata": {},
   "source": [
    "### 勾配降下法"
   ]
  },
  {
   "cell_type": "code",
   "execution_count": 14,
   "metadata": {},
   "outputs": [],
   "source": [
    "# 勾配降下法\n",
    "class GradientDescent:\n",
    "    def __init__(self, f, df, alpha=0.01, eps=1e-6):\n",
    "        # f 関数\n",
    "        self.f = f\n",
    "        # df 導関数\n",
    "        self.df = df\n",
    "        # alpha アルファ探索時の移動の大きさ\n",
    "        self.alpha = alpha\n",
    "        # eps イプシロン　アルゴリズムの終了条件\n",
    "        self.eps = eps\n",
    "        # path\n",
    "        self.path = None\n",
    "    \n",
    "    def solve(self, init):\n",
    "        x = init\n",
    "        path = []\n",
    "        grad = self.df(x)\n",
    "        path.append(x)\n",
    "        while (grad**2).sum() > self.eps**2:\n",
    "            x = x - self.alpha * grad\n",
    "            grad = self.df(x)\n",
    "            path.append(x)\n",
    "        self.path_ = np.array(path)\n",
    "        # x_に最適解を保存\n",
    "        self.x_ = x\n",
    "        # optにデータ属性を保存\n",
    "        self.opt_ = self.f(x)"
   ]
  },
  {
   "cell_type": "code",
   "execution_count": null,
   "metadata": {},
   "outputs": [],
   "source": [
    "# alphaを固定した状態で勾配降下法を計算"
   ]
  },
  {
   "cell_type": "code",
   "execution_count": 25,
   "metadata": {},
   "outputs": [],
   "source": [
    "# 関数yを定義\n",
    "def f(xx):\n",
    "    x = xx[0]\n",
    "    y = xx[1]\n",
    "    return 5 * x**2 - 6 * x * y + 3 * y**2 + 6 * x - 6 * y\n",
    "\n",
    "# 導関数dyを定義\n",
    "def df(xx):\n",
    "    x = xx[0]\n",
    "    y = xx[1]\n",
    "    return np.array([10 * x - 6 * y + 6, -6 * x + 6 * y - 6])"
   ]
  },
  {
   "cell_type": "code",
   "execution_count": 29,
   "metadata": {},
   "outputs": [
    {
     "name": "stdout",
     "output_type": "stream",
     "text": [
      "[3.45722846e-07 1.00000048e+00]\n",
      "-2.9999999999997073\n"
     ]
    }
   ],
   "source": [
    "algo = GradientDescent(f, df)\n",
    "# 初期値　x=1, y=1を設定\n",
    "initial = np.array([1, 1])\n",
    "# 初期値を使って勾配降下法を計算\n",
    "algo.solve(initial)\n",
    "print(algo.x_)\n",
    "print(algo.opt_)"
   ]
  },
  {
   "cell_type": "code",
   "execution_count": 30,
   "metadata": {},
   "outputs": [
    {
     "name": "stderr",
     "output_type": "stream",
     "text": [
      "/opt/anaconda3/lib/python3.7/site-packages/ipykernel_launcher.py:12: UserWarning: The following kwargs were not used by contour: 'color'\n",
      "  if sys.path[0] == '':\n"
     ]
    },
    {
     "data": {
      "image/png": "[encoded data removed]",
      "text/plain": [
       "<Figure size 432x288 with 1 Axes>"
      ]
     },
     "metadata": {
      "needs_background": "light"
     },
     "output_type": "display_data"
    }
   ],
   "source": [
    "# 計算結果を可視化\n",
    "# 初期値をプロット\n",
    "plt.scatter(initial[0], initial[1], color='k', marker='o')\n",
    "# 最適解へのパスをプロット\n",
    "plt.plot(algo.path_[:, 0], algo.path_[:, 1], color='k', linewidth=1.5)\n",
    "# \n",
    "xs = np.linspace(-2, 2, 300)\n",
    "ys = np.linspace(-2, 2, 300)\n",
    "xmesh, ymesh = np.meshgrid(xs, ys)\n",
    "xx = np.r_[xmesh.reshape(1, -1), ymesh.reshape(1, -1)]\n",
    "levels = [-3, -2.9, -2.8, -2.6, -2.4, -2.2, -2, -1, 0, 1, 2, 3, 4]\n",
    "plt.contour(xs, ys, f(xx).reshape(xmesh.shape), levels=levels, color='k', linestyles='dotted')\n",
    "plt.show()"
   ]
  },
  {
   "cell_type": "code",
   "execution_count": 28,
   "metadata": {},
   "outputs": [],
   "source": [
    "# alphaの値を変更しながら計算\n",
    "xmin, xmax, ymin, ymax = -3, 3, -3, 3"
   ]
  },
  {
   "cell_type": "code",
   "execution_count": 34,
   "metadata": {},
   "outputs": [
    {
     "name": "stderr",
     "output_type": "stream",
     "text": [
      "/opt/anaconda3/lib/python3.7/site-packages/ipykernel_launcher.py:20: RuntimeWarning: overflow encountered in square\n",
      "/opt/anaconda3/lib/python3.7/site-packages/ipykernel_launcher.py:11: RuntimeWarning: overflow encountered in double_scalars\n",
      "  # This is added back by InteractiveShellApp.init_path()\n",
      "/opt/anaconda3/lib/python3.7/site-packages/ipykernel_launcher.py:21: RuntimeWarning: invalid value encountered in subtract\n"
     ]
    }
   ],
   "source": [
    "algos = []\n",
    "# 初期値　x=1, y=1を設定\n",
    "initial = np.array([1, 1])\n",
    "# alphaを複数設定\n",
    "alphas = [0.1, 0.2]\n",
    "# 初期値を使って勾配降下法を計算\n",
    "for alpha in alphas:\n",
    "    algo = GradientDescent(f, df, alpha)\n",
    "    algo.solve(np.array(initial))\n",
    "    algos.append(algo)"
   ]
  },
  {
   "cell_type": "code",
   "execution_count": 37,
   "metadata": {},
   "outputs": [
    {
     "name": "stderr",
     "output_type": "stream",
     "text": [
      "/opt/anaconda3/lib/python3.7/site-packages/ipykernel_launcher.py:16: UserWarning: The following kwargs were not used by contour: 'color'\n",
      "  app.launch_new_instance()\n"
     ]
    },
    {
     "data": {
      "image/png": "[encoded data removed]",
      "text/plain": [
       "<Figure size 432x288 with 2 Axes>"
      ]
     },
     "metadata": {
      "needs_background": "light"
     },
     "output_type": "display_data"
    }
   ],
   "source": [
    "# 計算結果を可視化 \n",
    "xs = np.linspace(xmin, xmax, 300)\n",
    "ys = np.linspace(ymin, ymax, 300)\n",
    "xmesh, ymesh = np.meshgrid(xs, ys)\n",
    "xx = np.r_[xmesh.reshape(1, -1), ymesh.reshape(1, -1)]\n",
    "fig, ax = plt.subplots(1, 2)\n",
    "levels = [-3, -2.9, -2.8, -2.6, -2.4, -2.2, -2, -1, 0, 1, 2, 3, 4]\n",
    "for i in range(2):\n",
    "    ax[i].set_xlim((xmin, xmax))\n",
    "    ax[i].set_ylim((ymin, ymax))\n",
    "    ax[i].set_title(\"alpha={}\".format(alphas[i]))\n",
    "    # 初期値をプロット\n",
    "    ax[i].scatter(initial[0], initial[1], color='k', marker='o')\n",
    "    # 最適解へのパスをプロット\n",
    "    ax[i].plot(algos[i].path_[:, 0], algos[i].path_[:, 1], color='k', linewidth=1.5)\n",
    "    ax[i].contour(xs, ys, f(xx).reshape(xmesh.shape), levels=levels, color='k', linestyles='dotted')\n",
    "plt.show()"
   ]
  },
  {
   "cell_type": "markdown",
   "metadata": {},
   "source": [
    "### ニュートン法"
   ]
  },
  {
   "cell_type": "code",
   "execution_count": 57,
   "metadata": {},
   "outputs": [],
   "source": [
    "# ニュートン法\n",
    "def newton1dim(f, df, x0, eps=1e-10, max_iter=1000):\n",
    "    x = x0\n",
    "    iter = 0\n",
    "    while True:\n",
    "        x_new = x - f(x)/df(x)\n",
    "        if abs(x - x_new) < eps:\n",
    "            break\n",
    "        x = x_new\n",
    "        iter += 1\n",
    "        if iter == max_iter:\n",
    "            break\n",
    "    return x_new"
   ]
  },
  {
   "cell_type": "code",
   "execution_count": 58,
   "metadata": {},
   "outputs": [],
   "source": [
    "# 解く関数を設定\n",
    "def f(x):\n",
    "    return x**3 - 5 * x + 1"
   ]
  },
  {
   "cell_type": "code",
   "execution_count": 59,
   "metadata": {},
   "outputs": [],
   "source": [
    "# 解く導関数を設定\n",
    "def df(x):\n",
    "    return 3*x**2-5"
   ]
  },
  {
   "cell_type": "code",
   "execution_count": 60,
   "metadata": {},
   "outputs": [
    {
     "name": "stdout",
     "output_type": "stream",
     "text": [
      "2.1284190638445777\n",
      "0.20163967572340463\n",
      "-2.330058739567982\n"
     ]
    }
   ],
   "source": [
    "print(newton1dim(f, df, 2))\n",
    "print(newton1dim(f, df, 0))\n",
    "print(newton1dim(f, df, -3))"
   ]
  },
  {
   "cell_type": "code",
   "execution_count": 76,
   "metadata": {},
   "outputs": [],
   "source": [
    "# ニュートン法\n",
    "class Newton:\n",
    "    def __init__(self, f, df, eps=1e-10, max_iter=1000):\n",
    "        self.f = f\n",
    "        self.df = df\n",
    "        self.eps = eps\n",
    "        self.max_iter = max_iter\n",
    "        \n",
    "    def solve(self, x0):\n",
    "        x = x0\n",
    "        iter = 0\n",
    "        self.path_ = x0.reshape(1, -1)\n",
    "        while True:\n",
    "            x_new = x - np.dot(linalg.inv(self.df(x)), self.f(x))\n",
    "            self.path_ = np.r_[self.path_, x_new.reshape(1, -1)]\n",
    "            if ((x - x_new)**2).sum() < self.eps*self.eps:\n",
    "                break\n",
    "            x = x_new\n",
    "            iter += 1\n",
    "            if iter == self.max_iter:\n",
    "                break\n",
    "        return x_new"
   ]
  },
  {
   "cell_type": "code",
   "execution_count": 63,
   "metadata": {},
   "outputs": [],
   "source": [
    "# 関数の定義\n",
    "def f1(x, y):\n",
    "    return x**3-2*y\n",
    "\n",
    "def f2(x, y):\n",
    "    return x**2+y**2-1\n",
    "\n",
    "def f(xx):\n",
    "    x = xx[0]\n",
    "    y = xx[1]\n",
    "    return np.array([f1(x, y), f2(x, y)])\n",
    "\n",
    "def df(xx):\n",
    "    x = xx[0]\n",
    "    y = xx[1]\n",
    "    return np.array([[3*x**2, -2], [2*x, 2*y]])"
   ]
  },
  {
   "cell_type": "code",
   "execution_count": 77,
   "metadata": {},
   "outputs": [
    {
     "name": "stderr",
     "output_type": "stream",
     "text": [
      "/opt/anaconda3/lib/python3.7/site-packages/ipykernel_launcher.py:11: UserWarning: The following kwargs were not used by contour: 'color'\n",
      "  # This is added back by InteractiveShellApp.init_path()\n",
      "/opt/anaconda3/lib/python3.7/site-packages/ipykernel_launcher.py:13: UserWarning: The following kwargs were not used by contour: 'color'\n",
      "  del sys.path[0]\n"
     ]
    },
    {
     "name": "stdout",
     "output_type": "stream",
     "text": [
      "[0.92071038 0.39024659]\n",
      "[-0.92071038 -0.39024659]\n",
      "[-0.92071038 -0.39024659]\n"
     ]
    },
    {
     "data": {
      "image/png": "[encoded data removed]",
      "text/plain": [
       "<Figure size 432x288 with 1 Axes>"
      ]
     },
     "metadata": {
      "needs_background": "light"
     },
     "output_type": "display_data"
    }
   ],
   "source": [
    "# プロットの枠作成\n",
    "xmin, xmax, ymin, ymax = -3, 3, -3, 3\n",
    "plt.xlim(xmin, xmax)\n",
    "plt.ylim(ymin, ymax)\n",
    "x = np.linspace(xmin, xmax, 200)\n",
    "y = np.linspace(ymin, ymax, 200)\n",
    "xmesh, ymesh = np.meshgrid(x, y)\n",
    "z1 = f1(xmesh, ymesh)\n",
    "z2 = f2(xmesh, ymesh)\n",
    "# z1(s字カーブ)をプロット\n",
    "plt.contour(xmesh, ymesh, z1, color='r', levels=[0])\n",
    "# z2(楕円)をプロット\n",
    "plt.contour(xmesh, ymesh, z2, color='k', levels=[0])\n",
    "\n",
    "#ソルバー\n",
    "solver = Newton(f, df)\n",
    "\n",
    "# 初期値\n",
    "initials = [np.array([1, 1]),\n",
    "            np.array([-1, -1]),\n",
    "            np.array([1, -1])]\n",
    "markers = ['+', '*', 'x']\n",
    "\n",
    "for x0, m, in zip(initials, markers):\n",
    "    sol = solver.solve(x0)\n",
    "    plt.scatter(solver.path_[:, 0],\n",
    "                solver.path_[:, 1], color='k', marker=m)\n",
    "    print(sol)\n",
    "plt.show()"
   ]
  },
  {
   "cell_type": "code",
   "execution_count": null,
   "metadata": {},
   "outputs": [],
   "source": []
  }
 ],
 "metadata": {
  "kernelspec": {
   "display_name": "Python 3",
   "language": "python",
   "name": "python3"
  },
  "language_info": {
   "codemirror_mode": {
    "name": "ipython",
    "version": 3
   },
   "file_extension": ".py",
   "mimetype": "text/x-python",
   "name": "python",
   "nbconvert_exporter": "python",
   "pygments_lexer": "ipython3",
   "version": "3.7.4"
  }
 },
 "nbformat": 4,
 "nbformat_minor": 4
}
